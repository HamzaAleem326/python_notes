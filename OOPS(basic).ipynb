{
 "cells": [
  {
   "cell_type": "markdown",
   "id": "529744ef",
   "metadata": {},
   "source": [
    "## OOPS by shradha khapra (basic)"
   ]
  },
  {
   "cell_type": "code",
   "execution_count": null,
   "id": "ea3e5718",
   "metadata": {},
   "outputs": [],
   "source": [
    "class Car: # class is a blueprint for creating objects\n",
    "    shape = \"4-wheeled vehicle\" # this is by default for all cars\n",
    "\n",
    "    def __init__(self, make, year): # init is a constructor called when an object is created\n",
    "        self.make = make # self is a reference to the current instance of the class\n",
    "        self.year = year\n",
    "\n",
    "BMW = Car(\"BMW\", 2020)\n",
    "print(BMW.make)  # Output: BMW"
   ]
  },
  {
   "cell_type": "code",
   "execution_count": null,
   "id": "50c1c9cd",
   "metadata": {},
   "outputs": [],
   "source": [
    "Car.shape = \"6-wheeled vehicle\"  # changing the shape for all cars\n",
    "print(BMW.shape)  # Output: 6-wheeled vehicle"
   ]
  },
  {
   "cell_type": "code",
   "execution_count": null,
   "id": "d8907139",
   "metadata": {},
   "outputs": [],
   "source": [
    "# methods\n",
    "# methods are functions defined inside a class\n",
    "\n",
    "class Student: \n",
    "    def __init__(self, name, age):\n",
    "        self.name = name\n",
    "        self.age = age\n",
    "\n",
    "    def greet(self): # method to greet the student\n",
    "        return f\"Hello, my name is {self.name} and I am {self.age} years old.\"\n",
    "    \n",
    "student1 = Student(\"Alice\", 20)\n",
    "print(student1.greet())  # Output: Hello, my name is Alice and I am 20 years old."
   ]
  },
  {
   "cell_type": "code",
   "execution_count": null,
   "id": "a27533c2",
   "metadata": {},
   "outputs": [],
   "source": [
    "# static methods\n",
    "# static methods are methods that do not require an instance of the class to be called\n",
    "\n",
    "class MathUtils:\n",
    "    @staticmethod # decorator to define a static method\n",
    "    def add(x, y):\n",
    "        return x + y\n",
    "\n",
    "    @staticmethod\n",
    "    def subtract(x, y):\n",
    "        return x - y\n",
    "    \n",
    "print(MathUtils.add(5, 3))  # Output: 8\n",
    "print(MathUtils.subtract(10, 4))  # Output: 6"
   ]
  },
  {
   "cell_type": "markdown",
   "id": "d667652f",
   "metadata": {},
   "source": [
    "## 4 pillars of python oop "
   ]
  },
  {
   "cell_type": "code",
   "execution_count": null,
   "id": "6f47c077",
   "metadata": {},
   "outputs": [],
   "source": []
  }
 ],
 "metadata": {
  "kernelspec": {
   "display_name": "Python 3",
   "language": "python",
   "name": "python3"
  },
  "language_info": {
   "codemirror_mode": {
    "name": "ipython",
    "version": 3
   },
   "file_extension": ".py",
   "mimetype": "text/x-python",
   "name": "python",
   "nbconvert_exporter": "python",
   "pygments_lexer": "ipython3",
   "version": "3.13.3"
  }
 },
 "nbformat": 4,
 "nbformat_minor": 5
}
