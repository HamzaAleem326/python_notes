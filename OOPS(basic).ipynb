{
 "cells": [
  {
   "cell_type": "markdown",
   "id": "529744ef",
   "metadata": {},
   "source": [
    "## OOPS by shradha khapra (basic)"
   ]
  },
  {
   "cell_type": "code",
   "execution_count": null,
   "id": "ea3e5718",
   "metadata": {},
   "outputs": [],
   "source": [
    "class Car: # class is a blueprint for creating objects\n",
    "    shape = \"4-wheeled vehicle\" # this is by default for all cars\n",
    "\n",
    "    def __init__(self, make, year): # init is a constructor called when an object is created\n",
    "        self.make = make # self is a reference to the current instance of the class\n",
    "        self.year = year\n",
    "\n",
    "BMW = Car(\"BMW\", 2020)\n",
    "print(BMW.make)  # Output: BMW"
   ]
  },
  {
   "cell_type": "code",
   "execution_count": null,
   "id": "50c1c9cd",
   "metadata": {},
   "outputs": [],
   "source": [
    "Car.shape = \"6-wheeled vehicle\"  # changing the shape for all cars\n",
    "print(BMW.shape)  # Output: 6-wheeled vehicle"
   ]
  },
  {
   "cell_type": "markdown",
   "id": "53f1b575",
   "metadata": {},
   "source": [
    "#### methods"
   ]
  },
  {
   "cell_type": "code",
   "execution_count": null,
   "id": "d8907139",
   "metadata": {},
   "outputs": [],
   "source": [
    "# methods are functions defined inside a class\n",
    "\n",
    "class Student: \n",
    "    def __init__(self, name, age):\n",
    "        self.name = name\n",
    "        self.age = age\n",
    "\n",
    "    def greet(self): # method to greet the student\n",
    "        return f\"Hello, my name is {self.name} and I am {self.age} years old.\"\n",
    "    \n",
    "student1 = Student(\"Alice\", 20)\n",
    "print(student1.greet())  # Output: Hello, my name is Alice and I am 20 years old."
   ]
  },
  {
   "cell_type": "markdown",
   "id": "b5b8dd51",
   "metadata": {},
   "source": [
    "#### static methods"
   ]
  },
  {
   "cell_type": "code",
   "execution_count": null,
   "id": "a27533c2",
   "metadata": {},
   "outputs": [],
   "source": [
    "# static methods are methods that do not require an instance of the class to be called\n",
    "\n",
    "class MathUtils:\n",
    "    @staticmethod # decorator to define a static method\n",
    "    def add(x, y):\n",
    "        return x + y\n",
    "\n",
    "    @staticmethod\n",
    "    def subtract(x, y):\n",
    "        return x - y\n",
    "    \n",
    "print(MathUtils.add(5, 3))  # Output: 8\n",
    "print(MathUtils.subtract(10, 4))  # Output: 6"
   ]
  },
  {
   "cell_type": "markdown",
   "id": "d667652f",
   "metadata": {},
   "source": [
    "## 4 pillars of python oop "
   ]
  },
  {
   "cell_type": "markdown",
   "id": "5e4d8da1",
   "metadata": {},
   "source": [
    "#### Abstraction"
   ]
  },
  {
   "cell_type": "code",
   "execution_count": null,
   "id": "6f47c077",
   "metadata": {},
   "outputs": [],
   "source": [
    "# abstraction is the concept of hiding the complex implementation details and showing only the essential features\n",
    "\n",
    "class Car:\n",
    "    def __init__(self):\n",
    "        self.acc = False\n",
    "        self.brk = False\n",
    "        self.clutch = False\n",
    "\n",
    "    def start(self):\n",
    "        self.clutch = True\n",
    "        self.acc = True\n",
    "        print(\"Car started....bmmmm\")\n",
    "\n",
    "Mercedes = Car()\n",
    "Mercedes.start()  # this is an example of abstraction where the user does not need to know how the car starts internally"
   ]
  },
  {
   "cell_type": "code",
   "execution_count": null,
   "id": "0bd1ceb9",
   "metadata": {},
   "outputs": [],
   "source": [
    "# lets practice\n",
    "# create account class with 2 attributes - balance and account_number\n",
    "# create a methos for debit,credit and check_balance\n",
    "\n",
    "class Account:\n",
    "    def __init__(self, account_number, balance=0):\n",
    "        self.account_number = account_number\n",
    "        self.balance = balance\n",
    "\n",
    "    def debit(self, amount):\n",
    "        if amount <= self.balance:\n",
    "            self.balance -= amount\n",
    "            return f\"Debited {amount}. New balance: {self.balance}\"\n",
    "        else:\n",
    "            return \"Insufficient funds\"\n",
    "\n",
    "    def credit(self, amount):\n",
    "        self.balance += amount\n",
    "        return f\"Credited {amount}. New balance: {self.balance}\"\n",
    "\n",
    "    def check_balance(self):\n",
    "        return f\"Current balance: {self.balance}\"\n",
    "    \n",
    "hamza_account = Account(\"123456789\", 10000)\n",
    "hamza_account.debit(2000)  # Output: Debited 2000. New balance: 8000\n",
    "hamza_account.check_balance()  # Output: Current balance: 8000"
   ]
  },
  {
   "cell_type": "markdown",
   "id": "3d9a4f63",
   "metadata": {},
   "source": [
    "#### Encapsulation"
   ]
  },
  {
   "cell_type": "code",
   "execution_count": 2,
   "id": "aa3385e2",
   "metadata": {},
   "outputs": [],
   "source": [
    "# wrapping data and methods into a single unit is called encapsulation\n",
    "# to restrict access to certain components of an object, we can use private attributes and methods\n",
    "\n",
    "class BankAccount:\n",
    "    def __init__(self, balance):\n",
    "        self.__balance = balance  # private attribute\n",
    "\n",
    "    def deposit(self, amount):\n",
    "        if amount > 0:\n",
    "            self.__balance += amount\n",
    "            print(f\"Deposited: {amount}\")\n",
    "        else:\n",
    "            print(\"Deposit amount must be positive.\")\n",
    "\n",
    "    def get_balance(self):\n",
    "        return self.__balance  # accessing private attribute through a public method"
   ]
  },
  {
   "cell_type": "markdown",
   "id": "d0143942",
   "metadata": {},
   "source": [
    "##### del keyword"
   ]
  },
  {
   "cell_type": "code",
   "execution_count": null,
   "id": "df162cbd",
   "metadata": {},
   "outputs": [],
   "source": [
    "# del keyword is used to delete an object or an attribute\n",
    "class Person:\n",
    "    def __init__(self, name):\n",
    "        self.name = name\n",
    "\n",
    "s1 = Person(\"John\")\n",
    "del s1  # deletes the object s1\n",
    "# print(s1) shows an error because s1 no longer exists"
   ]
  },
  {
   "cell_type": "markdown",
   "id": "8043a1dc",
   "metadata": {},
   "source": [
    "##### Pulic and pricate attribute"
   ]
  },
  {
   "cell_type": "code",
   "execution_count": null,
   "id": "2935abc4",
   "metadata": {},
   "outputs": [],
   "source": [
    "class Account:\n",
    "    def __init__(self, acc_no, acc_pass):\n",
    "        self.__acc_no = acc_no  # private attribute\n",
    "        self.__acc_pass = acc_pass"
   ]
  }
 ],
 "metadata": {
  "kernelspec": {
   "display_name": "Python 3",
   "language": "python",
   "name": "python3"
  },
  "language_info": {
   "codemirror_mode": {
    "name": "ipython",
    "version": 3
   },
   "file_extension": ".py",
   "mimetype": "text/x-python",
   "name": "python",
   "nbconvert_exporter": "python",
   "pygments_lexer": "ipython3",
   "version": "3.13.3"
  }
 },
 "nbformat": 4,
 "nbformat_minor": 5
}
