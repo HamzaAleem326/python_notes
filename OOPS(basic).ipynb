{
 "cells": [
  {
   "cell_type": "markdown",
   "id": "529744ef",
   "metadata": {},
   "source": [
    "## OOPS by shradha khapra (basic)"
   ]
  },
  {
   "cell_type": "code",
   "execution_count": null,
   "id": "ea3e5718",
   "metadata": {},
   "outputs": [],
   "source": [
    "class Car: # class is a blueprint for creating objects\n",
    "    shape = \"4-wheeled vehicle\" # this is by default for all cars\n",
    "\n",
    "    def __init__(self, make, year): # init is a constructor called when an object is created\n",
    "        self.make = make # self is a reference to the current instance of the class\n",
    "        self.year = year\n",
    "\n",
    "BMW = Car(\"BMW\", 2020)\n",
    "print(BMW.make)  # Output: BMW"
   ]
  },
  {
   "cell_type": "code",
   "execution_count": null,
   "id": "50c1c9cd",
   "metadata": {},
   "outputs": [],
   "source": [
    "Car.shape = \"6-wheeled vehicle\"  # changing the shape for all cars\n",
    "print(BMW.shape)  # Output: 6-wheeled vehicle"
   ]
  },
  {
   "cell_type": "markdown",
   "id": "53f1b575",
   "metadata": {},
   "source": [
    "#### methods"
   ]
  },
  {
   "cell_type": "code",
   "execution_count": null,
   "id": "d8907139",
   "metadata": {},
   "outputs": [],
   "source": [
    "# methods are functions defined inside a class\n",
    "\n",
    "class Student: \n",
    "    def __init__(self, name, age):\n",
    "        self.name = name\n",
    "        self.age = age\n",
    "\n",
    "    def greet(self): # method to greet the student\n",
    "        return f\"Hello, my name is {self.name} and I am {self.age} years old.\"\n",
    "    \n",
    "student1 = Student(\"Alice\", 20)\n",
    "print(student1.greet())  # Output: Hello, my name is Alice and I am 20 years old."
   ]
  },
  {
   "cell_type": "markdown",
   "id": "b5b8dd51",
   "metadata": {},
   "source": [
    "#### static methods"
   ]
  },
  {
   "cell_type": "code",
   "execution_count": null,
   "id": "a27533c2",
   "metadata": {},
   "outputs": [],
   "source": [
    "# static methods are methods that do not require an instance of the class to be called\n",
    "\n",
    "class MathUtils:\n",
    "    @staticmethod # decorator to define a static method\n",
    "    def add(x, y):\n",
    "        return x + y\n",
    "\n",
    "    @staticmethod\n",
    "    def subtract(x, y):\n",
    "        return x - y\n",
    "    \n",
    "print(MathUtils.add(5, 3))  # Output: 8\n",
    "print(MathUtils.subtract(10, 4))  # Output: 6"
   ]
  },
  {
   "cell_type": "markdown",
   "id": "d667652f",
   "metadata": {},
   "source": [
    "## 4 pillars of python oop "
   ]
  },
  {
   "cell_type": "markdown",
   "id": "5e4d8da1",
   "metadata": {},
   "source": [
    "#### Abstraction"
   ]
  },
  {
   "cell_type": "code",
   "execution_count": null,
   "id": "6f47c077",
   "metadata": {},
   "outputs": [],
   "source": [
    "# abstraction is the concept of hiding the complex implementation details and showing only the essential features\n",
    "\n",
    "class Car:\n",
    "    def __init__(self):\n",
    "        self.acc = False\n",
    "        self.brk = False\n",
    "        self.clutch = False\n",
    "\n",
    "    def start(self):\n",
    "        self.clutch = True\n",
    "        self.acc = True\n",
    "        print(\"Car started....bmmmm\")\n",
    "\n",
    "Mercedes = Car()\n",
    "Mercedes.start()  # this is an example of abstraction where the user does not need to know how the car starts internally"
   ]
  },
  {
   "cell_type": "markdown",
   "id": "e04a5e4d",
   "metadata": {},
   "source": [
    "## lest practice"
   ]
  },
  {
   "cell_type": "code",
   "execution_count": null,
   "id": "0bd1ceb9",
   "metadata": {},
   "outputs": [],
   "source": [
    "# create account class with 2 attributes - balance and account_number\n",
    "# create a methos for debit,credit and check_balance\n",
    "\n",
    "class Account:\n",
    "    def __init__(self, account_number, balance=0):\n",
    "        self.account_number = account_number\n",
    "        self.balance = balance\n",
    "\n",
    "    def debit(self, amount):\n",
    "        if amount <= self.balance:\n",
    "            self.balance -= amount\n",
    "            return f\"Debited {amount}. New balance: {self.balance}\"\n",
    "        else:\n",
    "            return \"Insufficient funds\"\n",
    "\n",
    "    def credit(self, amount):\n",
    "        self.balance += amount\n",
    "        return f\"Credited {amount}. New balance: {self.balance}\"\n",
    "\n",
    "    def check_balance(self):\n",
    "        return f\"Current balance: {self.balance}\"\n",
    "    \n",
    "hamza_account = Account(\"123456789\", 10000)\n",
    "hamza_account.debit(2000)  # Output: Debited 2000. New balance: 8000\n",
    "hamza_account.check_balance()  # Output: Current balance: 8000"
   ]
  },
  {
   "cell_type": "markdown",
   "id": "3d9a4f63",
   "metadata": {},
   "source": [
    "#### Encapsulation"
   ]
  },
  {
   "cell_type": "code",
   "execution_count": 2,
   "id": "aa3385e2",
   "metadata": {},
   "outputs": [],
   "source": [
    "# wrapping data and methods into a single unit is called encapsulation\n",
    "# to restrict access to certain components of an object, we can use private attributes and methods\n",
    "\n",
    "class BankAccount:\n",
    "    def __init__(self, balance):\n",
    "        self.__balance = balance  # private attribute\n",
    "\n",
    "    def deposit(self, amount):\n",
    "        if amount > 0:\n",
    "            self.__balance += amount\n",
    "            print(f\"Deposited: {amount}\")\n",
    "        else:\n",
    "            print(\"Deposit amount must be positive.\")\n",
    "\n",
    "    def get_balance(self):\n",
    "        return self.__balance  # accessing private attribute through a public method"
   ]
  },
  {
   "cell_type": "markdown",
   "id": "d0143942",
   "metadata": {},
   "source": [
    "##### del keyword"
   ]
  },
  {
   "cell_type": "code",
   "execution_count": 4,
   "id": "df162cbd",
   "metadata": {},
   "outputs": [],
   "source": [
    "# del keyword is used to delete an object or an attribute\n",
    "class Person:\n",
    "    def __init__(self, name):\n",
    "        self.name = name\n",
    "\n",
    "s1 = Person(\"John\")\n",
    "del s1  # deletes the object s1\n",
    "# print(s1) shows an error because s1 no longer exists"
   ]
  },
  {
   "cell_type": "markdown",
   "id": "8043a1dc",
   "metadata": {},
   "source": [
    "##### Pulic and pricate attribute"
   ]
  },
  {
   "cell_type": "code",
   "execution_count": null,
   "id": "2935abc4",
   "metadata": {},
   "outputs": [],
   "source": [
    "# Public attributes can be accessed directly, while private attributes are prefixed with double underscores\n",
    "    \n",
    "class Account:\n",
    "    def __init__(self, acc_no, acc_pass):\n",
    "        self.__acc_no = acc_no  # private attribute\n",
    "        self.__acc_pass = acc_pass\n",
    "\n",
    "    def __account_balance(self):  # private method\n",
    "        return \"Account balance is private.\"\n",
    "\n",
    "    def get_account_info(self):\n",
    "        return f\"Number: {self.__acc_no}, Password: {self.__acc_pass} and {self.__account_balance()}\"\n",
    "\n",
    "p1 = Account(\"123456789\", \"password123\")\n",
    "print(p1.get_account_info())  # Output: Account Number: 123456789, Account Password: password123"
   ]
  },
  {
   "cell_type": "markdown",
   "id": "61bbbe0d",
   "metadata": {},
   "source": [
    "##### Inheritence"
   ]
  },
  {
   "cell_type": "code",
   "execution_count": null,
   "id": "f38f869b",
   "metadata": {},
   "outputs": [],
   "source": [
    "# inheritance allows a class to inherit attributes and methods from another class\n",
    "# like someone can inherit traits from their parents\n",
    "# derived class means child class, and base class means parent class\n",
    "\n",
    "class Animal:  # parent class\n",
    "    def speak(self):\n",
    "        return \"Animal speaks\"\n",
    "class Dog(Animal):  # child/derived class inheriting from Animal\n",
    "    def bark(self):\n",
    "        return \"Dog barks\"\n",
    "class Cat(Animal):  # another child class inheriting from Animal\n",
    "    def meow(self):\n",
    "        return \"Cat meows\"\n",
    "dog = Dog()\n",
    "cat = Cat()\n",
    "print(dog.speak())  # Output: Animal speaks\n",
    "print(cat.speak())  # Output: Animal speaks\n",
    "print(dog.bark())   # Output: Dog barks\n",
    "print(cat.meow())   # Output: Cat meows"
   ]
  },
  {
   "cell_type": "markdown",
   "id": "12bb184a",
   "metadata": {},
   "source": [
    "##### Another example of inheritance"
   ]
  },
  {
   "cell_type": "code",
   "execution_count": null,
   "id": "01e8b87a",
   "metadata": {},
   "outputs": [],
   "source": [
    "class Car:\n",
    "\n",
    "    color = \"red\"  # class attribute\n",
    "\n",
    "    @staticmethod\n",
    "    def start_engine():\n",
    "        return \"Engine started\"\n",
    "    \n",
    "    @staticmethod\n",
    "    def stop_engine():\n",
    "        return \"Engine stopped\"\n",
    "    \n",
    "class Lamborghini(Car):  # Lamborghini inherits from Car\n",
    "    def __init__(self, model):\n",
    "        self.model = model\n",
    "\n",
    "    def display_model(self):\n",
    "        return f\"Lamborghini Model: {self.model}\"\n",
    "    \n",
    "lambo = Lamborghini(\"Aventador\")\n",
    "print(lambo.start_engine())  # Output: Engine started\n",
    "print(lambo.color)  # Output: red\n"
   ]
  },
  {
   "cell_type": "markdown",
   "id": "afc18e4b",
   "metadata": {},
   "source": [
    "##### ***Inheritance types :***\n",
    "\n",
    "###### **Single inheritance**\n",
    "\n",
    "###### **Multi-level inheritance**\n",
    "\n",
    "###### **Multiple inheritance**"
   ]
  },
  {
   "cell_type": "code",
   "execution_count": null,
   "id": "018c6192",
   "metadata": {},
   "outputs": [],
   "source": [
    "# Single inheritance: one class inherits from another\n",
    "class Vehicle:  # parent class\n",
    "    def drive(self):\n",
    "        return \"Driving a vehicle\"\n",
    "class Car(Vehicle):  # child class inheriting from Vehicle\n",
    "    def honk(self):\n",
    "        return \"Car honking\"\n",
    "my_car = Car()\n",
    "print(my_car.drive())  # Output: Driving a vehicle\n",
    "print(my_car.honk())  # Output: Car honking\n",
    "# this is an example of single inheritance where Car inherits from Vehicle"
   ]
  },
  {
   "cell_type": "code",
   "execution_count": null,
   "id": "4b738860",
   "metadata": {},
   "outputs": [],
   "source": [
    "# Multi-level inheritance: a class inherits from another class which is also a child of another class\n",
    "class Animal:  # base class\n",
    "    def eat(self):\n",
    "        return \"Eating\"\n",
    "class Dog(Animal):  # intermediate class\n",
    "    def bark(self):\n",
    "        return \"Barking\"\n",
    "class Puppy(Dog):  # child class inheriting from Dog\n",
    "    def play(self):\n",
    "        return \"Playing\"\n",
    "my_puppy = Puppy()\n",
    "print(my_puppy.eat())  # Output: Eating\n",
    "print(my_puppy.bark())  # Output: Barking\n",
    "print(my_puppy.play())  # Output: Playing\n",
    "# Multi level inheritance allows Puppy to inherit from Dog, which in turn inherits from Animal"
   ]
  },
  {
   "cell_type": "code",
   "execution_count": null,
   "id": "cb9d110c",
   "metadata": {},
   "outputs": [],
   "source": [
    "# Multiple inheritance: a class can inherit from multiple classes\n",
    "class Bugatti:\n",
    "    def speed(self):\n",
    "        return \"Fast\"\n",
    "class Tesla:\n",
    "    def autopilot(self):\n",
    "        return \"Autopilot engaged\"\n",
    "class Porsche(Bugatti, Tesla):  # Porsche inherits from both Bugatti and Tesla\n",
    "    def model(self):\n",
    "        return \"Porsche 911\"\n",
    "porsche = Porsche()\n",
    "print(porsche.speed())  # Output: Fast\n",
    "print(porsche.autopilot())  # Output: Autopilot engaged\n",
    "print(porsche.model())  # Output: Porsche 911\n",
    "# Multiple inheritance allows Porsche to inherit features from both Bugatti and Tesla"
   ]
  },
  {
   "cell_type": "markdown",
   "id": "1dc46f9c",
   "metadata": {},
   "source": [
    "##### Super method"
   ]
  },
  {
   "cell_type": "code",
   "execution_count": null,
   "id": "ac1b2bf1",
   "metadata": {},
   "outputs": [],
   "source": [
    "# Super method is used to call a method from the parent class\n",
    "class Parent:\n",
    "    def greet(self):\n",
    "        return \"Hello from Parent\"\n",
    "class Child(Parent):\n",
    "    def greet(self):\n",
    "        parent_greeting = super().greet()  # calling the parent class method\n",
    "        return f\"{parent_greeting} and Child\"\n",
    "child = Child()\n",
    "print(child.greet())  # Output: Hello from Parent and Child"
   ]
  },
  {
   "cell_type": "markdown",
   "id": "80ff9d3f",
   "metadata": {},
   "source": [
    "##### Class method:"
   ]
  },
  {
   "cell_type": "code",
   "execution_count": null,
   "id": "f25df6d0",
   "metadata": {},
   "outputs": [],
   "source": [
    "# class method is a method that is bound to the class and not the instance of the class\n",
    "# note: static method cant be used to access class attributes, but class method can\n",
    "\n",
    "class Person:\n",
    "    name = 'anonymous'\n",
    "\n",
    "    def change_name(self, name):\n",
    "        self.name = name\n",
    "\n",
    "p1 = Person()\n",
    "p1.change_name('Hamza')\n",
    "print(p1.name)  # Output: Hamza\n",
    "print(Person.name)  # Output: anonymous \n",
    "# this shows that we cant change the name in the class. but we want to change the name in the class as well\n",
    "\n",
    "class Person:\n",
    "    name = 'anonymous'\n",
    "\n",
    "    def change_name(self, name): # this method will change the name in the class as well\n",
    "        Person.name = name\n",
    "\n",
    "p2 = Person()\n",
    "p2.change_name('Hamza Aleem')\n",
    "print(p2.name)  # Output: Hamza Aleem\n",
    "print(Person.name)  # Output: Hamza Aleem\n",
    "\n",
    "# there is also an another way to do this\n",
    "class Person:\n",
    "    name = 'anonymous'\n",
    "\n",
    "    def change_name(self, name):\n",
    "        self.__class__.name = name  # using __class__ to access the class attribute\n",
    "p3 = Person()\n",
    "p3.change_name('Hamza Aleem')\n",
    "print(p3.name)  # Output: Hamza Aleem\n",
    "print(Person.name)  # Output: Hamza Aleem\n",
    "\n",
    "# class method is a method that is bound to the class and not the instance of the class\n",
    "class Person:\n",
    "    name = 'anonymous'\n",
    "\n",
    "    @classmethod  # decorator to define a class method\n",
    "    def change_name(cls, name):  # cls is a reference to the class itself\n",
    "        cls.name = name\n",
    "p4 = Person()\n",
    "p4.change_name('Hamza Aleem')\n",
    "print(p4.name)  # Output: Hamza Aleem\n",
    "print(Person.name)  # Output: Hamza Aleem\n"
   ]
  },
  {
   "cell_type": "markdown",
   "id": "42cadad2",
   "metadata": {},
   "source": [
    "#### Property decorator"
   ]
  },
  {
   "cell_type": "code",
   "execution_count": null,
   "id": "c8561f7e",
   "metadata": {},
   "outputs": [],
   "source": [
    "# we use property decorator to define a method that can be accessed like an attribute\n",
    "\n",
    "class StudentMarks:\n",
    "    def __init__(self, phy, chem, math):\n",
    "        self.phy = phy\n",
    "        self.chem = chem\n",
    "        self.math = math\n",
    "        self.percentage = (self.phy + self.chem + self.math) / 3\n",
    "\n",
    "hamza = StudentMarks(80, 90, 85)\n",
    "print(hamza.percentage)  # Output: 85.0\n",
    "\n",
    "# but let suppose if teacher wants to change the marks of the student.\n",
    "hamza.phy = 95  # changing the physics marks\n",
    "print(hamza.percentage) # but percentage is still 85.0\n",
    "\n",
    "# we can use property decorator on any method to use it like an attribute\n",
    "\n",
    "class StudentMarks:\n",
    "    def __init__(self, phy, chem, math):\n",
    "        self.phy = phy\n",
    "        self.chem = chem\n",
    "        self.math = math\n",
    "\n",
    "    @property  # decorator to define a property\n",
    "    def percentage(self):\n",
    "        return (self.phy + self.chem + self.math) / 3\n",
    "    \n",
    "hamza = StudentMarks(80, 90, 85)\n",
    "print(hamza.percentage)  # Output: 85.0\n",
    "hamza.phy = 95  # changing the physics marks\n",
    "print(hamza.percentage)  # Output: 90.0, now it automatically updates the percentage"
   ]
  },
  {
   "cell_type": "markdown",
   "id": "2653065f",
   "metadata": {},
   "source": [
    "##### ***Polymorphism***"
   ]
  },
  {
   "cell_type": "code",
   "execution_count": null,
   "id": "c78a7a16",
   "metadata": {},
   "outputs": [],
   "source": [
    "# polymorphism : opearator overloading\n",
    "# when the same operator is allowed to have different meanings based on the context\n",
    "\n",
    "# Opearator Overloading\n",
    "print(5 + 3)  # Output: 8, here + is used for addition\n",
    "print(\"Hello \" + \"World\")  # Output: Hello World, here + is used for string concatenation\n",
    "print([1, 2] + [3, 4])  # Output: [1, 2, 3, 4], here + is used for list concatenation\n",
    "# it means same operator + is used for different data things\n",
    "\n",
    "class Complex:\n",
    "    def __init__(self, real, img):\n",
    "        self.real = real\n",
    "        self.img = img\n",
    "\n",
    "    def show(self):\n",
    "        return f\"{self.real} + {self.img}i\"\n",
    "    \n",
    "    def add(self, other):\n",
    "        return Complex(self.real + other.real, self.img + other.img)\n",
    "    \n",
    "num1 = Complex(2, 3)\n",
    "num1.show()  # Output: 2 + 3i\n",
    "\n",
    "num2 = Complex(5, 7)\n",
    "num2.show()  # Output: 5 + 7i\n",
    "\n",
    "num3 = num1.add(num2)\n",
    "print(num3.show())  # Output: 7 + 10i, here we have overloaded the add method to add two complex numbers\n",
    "\n",
    "## dunder methods\n",
    "## addition = __add__\n",
    "## subtraction = __sub__\n",
    "## multiplication = __mul__\n",
    "### division = __truediv__\n",
    "## modulus = __mod__\n",
    "\n",
    "## now we will use dunder methods.\n",
    "\n",
    "class Complex:\n",
    "    def __init__(self, real, img):\n",
    "        self.real = real\n",
    "        self.img = img\n",
    "\n",
    "    def show(self):\n",
    "        return f\"{self.real} + {self.img}i\"\n",
    "    \n",
    "    def __add__(self, other):  # overloading the + operator\n",
    "        return Complex(self.real + other.real, self.img + other.img)\n",
    "    \n",
    "    def __sub__(self, other):  # overloading the - operator\n",
    "        return Complex(self.real - other.real, self.img - other.img)\n",
    "    \n",
    "num4 = Complex(2, 3)\n",
    "num5 = Complex(5, 7)\n",
    "num6 = num4 + num5  # using the overloaded + operator\n",
    "print(num6.show())  # Output: 7 + 10i\n",
    "num7 = num4 - num5  # using the overloaded - operator\n",
    "print(num7.show())  # Output: -3 - 4i, here we have overloaded the - operator to subtract two complex numbers"
   ]
  },
  {
   "cell_type": "markdown",
   "id": "c5d0328e",
   "metadata": {},
   "source": [
    "## lets Practice"
   ]
  },
  {
   "cell_type": "code",
   "execution_count": null,
   "id": "56ac285e",
   "metadata": {},
   "outputs": [],
   "source": [
    "# Question: define a class to create a circle with radius r as a constructor\n",
    "# define the area method of a class which calculates the area of a circle.\n",
    "# define parameter method of the class which allow you to calculate the parameter \n",
    "# of the circle.\n",
    "\n",
    "class Circle:\n",
    "    def __init__(self, radius):\n",
    "        self.radius = radius\n",
    "\n",
    "    def area(self):\n",
    "        return 3.14 * self.radius ** 2  # Area = πr²\n",
    "\n",
    "    def perimeter(self):\n",
    "        return 2 * 3.14 * self.radius  # Perimeter = 2πr\n",
    "circle = Circle(5)\n",
    "print(circle.area())  # Output: 78.5\n",
    "print(circle.perimeter())  # Output: 31.400000000000002"
   ]
  },
  {
   "cell_type": "code",
   "execution_count": null,
   "id": "5ac00ed8",
   "metadata": {},
   "outputs": [],
   "source": [
    "# Question: define a employe class with attributes role, department, and salary\n",
    "# define a method to calculate the bonus based on the salary and role. this \n",
    "# class also has a show details method.\n",
    "# create an engineer class that inherits from employee and has additional attributes \n",
    "# like programming languages and years of experience.\n",
    "\n",
    "class Employee:\n",
    "    def __init__(self, role, department, salary):\n",
    "        self.role = role\n",
    "        self.department = department\n",
    "        self.salary = salary\n",
    "\n",
    "    def calculate_bonus(self):\n",
    "        if self.role == \"Manager\":\n",
    "            return self.salary * 0.10  # 10% bonus for managers\n",
    "        elif self.role == \"Engineer\":\n",
    "            return self.salary * 0.05  # 5% bonus for engineers\n",
    "        else:\n",
    "            return 0  # no bonus for other roles\n",
    "\n",
    "    def show_details(self):\n",
    "        return f\"Role: {self.role}, Department: {self.department}, Salary: {self.salary}\"\n",
    "    \n",
    "class Engineer(Employee):\n",
    "    def __init__(self, role, department, salary, programming_languages, years_of_experience):\n",
    "        super().__init__(role, department, salary)  # calling the parent class constructor\n",
    "        self.programming_languages = programming_languages\n",
    "        self.years_of_experience = years_of_experience\n",
    "\n",
    "    def show_details(self):\n",
    "        details = super().show_details()  # calling the parent class method\n",
    "        return f\"{details}, Programming Languages: {', '.join(self.programming_languages)}, Years of Experience: {self.years_of_experience}\"\n",
    "    \n",
    "manager = Employee(\"Manager\", \"Sales\", 80000)\n",
    "print(manager.show_details())  # Output: Role: Manager, Department: Sales, Salary:\n",
    "\n",
    "hamza = Engineer(\"Engineer\", \"IT\", 60000, [\"Python\", \"Java\"], 5)\n",
    "print(hamza.show_details())  # Output: Role: Engineer, Department: IT, Salary: 60000, Programming Languages: Python, Java, Years of Experience: 5"
   ]
  },
  {
   "cell_type": "code",
   "execution_count": null,
   "id": "2fb7d2af",
   "metadata": {},
   "outputs": [],
   "source": [
    "# Question: create a class called order which stores items ans its price\n",
    "# use dunder methods to add items, remove items, and calculate total price\n",
    "# use __gt__ to convey that order1 > order2 if price of order1 is greater than order2\n",
    "\n",
    "class Order:\n",
    "    def __init__(self):\n",
    "        self.items = {}  # dictionary to store items and their prices\n",
    "\n",
    "    def add_item(self, item, price):\n",
    "        self.items[item] = price  # adding item and its price\n",
    "\n",
    "    def remove_item(self, item):\n",
    "        if item in self.items:\n",
    "            del self.items[item]  # removing item if it exists\n",
    "        else:\n",
    "            print(f\"{item} not found in order.\")\n",
    "\n",
    "    def total_price(self):\n",
    "        return sum(self.items.values())  # calculating total price of all items\n",
    "\n",
    "    def __gt__(self, other):  # overloading > operator\n",
    "        return self.total_price() > other.total_price()  # comparing total prices of two orders\n",
    "order1 = Order()\n",
    "order1.add_item(\"Apple\", 1.5)\n",
    "order1.add_item(\"Banana\", 1.0)\n",
    "print(order1.total_price())  # Output: 2.5\n",
    "order2 = Order()\n",
    "order2.add_item(\"Orange\", 2.0)\n",
    "order2.add_item(\"Grapes\", 3.0)\n",
    "print(order2.total_price())  # Output: 5.0\n",
    "if order1 > order2:\n",
    "    print(\"Order 1 is more expensive than Order 2\")\n",
    "else:\n",
    "    print(\"Order 2 is more expensive than Order 1\") "
   ]
  },
  {
   "cell_type": "markdown",
   "id": "6f2ac16a",
   "metadata": {},
   "source": [
    "## Mini project"
   ]
  },
  {
   "cell_type": "code",
   "execution_count": null,
   "id": "23e4705b",
   "metadata": {},
   "outputs": [
    {
     "name": "stdout",
     "output_type": "stream",
     "text": [
      "50\n"
     ]
    }
   ],
   "source": [
    "# guess the number game\n",
    "\n",
    "import random\n",
    "\n",
    "target = random.randint(1,100)\n",
    "\n",
    "while True:\n",
    "    user_guess = int(input(\"Guess the number between 1 and 100 or Quit(Q): \"))\n",
    "    if (user_guess == 'Q' or user_guess == 'q'):\n",
    "        print(\"You quit the game.\")\n",
    "        break\n",
    "\n",
    "    if (user_guess == target):\n",
    "        print(\"Congratulations! You guessed the number.\")\n",
    "        break\n",
    "    elif (user_guess < target):\n",
    "        print(\"Too low! Try again. take a bigger guess.\")\n",
    "    elif (user_guess > target):\n",
    "        print(\"Too high! Try again. take a smaller guess.\")\n",
    "    else:\n",
    "        print(\"Invalid input! Please enter a number between 1 and 100.\")\n",
    "\n"
   ]
  }
 ],
 "metadata": {
  "kernelspec": {
   "display_name": "Python 3",
   "language": "python",
   "name": "python3"
  },
  "language_info": {
   "codemirror_mode": {
    "name": "ipython",
    "version": 3
   },
   "file_extension": ".py",
   "mimetype": "text/x-python",
   "name": "python",
   "nbconvert_exporter": "python",
   "pygments_lexer": "ipython3",
   "version": "3.13.3"
  }
 },
 "nbformat": 4,
 "nbformat_minor": 5
}
