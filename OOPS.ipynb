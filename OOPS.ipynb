{
 "cells": [
  {
   "cell_type": "markdown",
   "id": "529744ef",
   "metadata": {},
   "source": [
    "## OOPS by shradha khapra (basic)"
   ]
  },
  {
   "cell_type": "code",
   "execution_count": null,
   "id": "ea3e5718",
   "metadata": {},
   "outputs": [],
   "source": [
    "class Car: # class is a blueprint for creating objects\n",
    "    shape = \"4-wheeled vehicle\" # this is by default for all cars\n",
    "\n",
    "    def __init__(self, make, year): # init is a constructor called when an object is created\n",
    "        self.make = make # self is a reference to the current instance of the class\n",
    "        self.year = year\n",
    "\n",
    "BMW = Car(\"BMW\", 2020)\n",
    "print(BMW.make)  # Output: BMW"
   ]
  },
  {
   "cell_type": "code",
   "execution_count": null,
   "id": "50c1c9cd",
   "metadata": {},
   "outputs": [],
   "source": [
    "Car.shape = \"6-wheeled vehicle\"  # changing the shape for all cars\n",
    "print(BMW.shape)  # Output: 6-wheeled vehicle"
   ]
  },
  {
   "cell_type": "code",
   "execution_count": null,
   "id": "d8907139",
   "metadata": {},
   "outputs": [],
   "source": [
    "# methods\n",
    "# methods are functions defined inside a class\n",
    "\n",
    "class Student: \n",
    "    def __init__(self, name, age):\n",
    "        self.name = name\n",
    "        self.age = age\n",
    "\n",
    "    def greet(self): # method to greet the student\n",
    "        return f\"Hello, my name is {self.name} and I am {self.age} years old.\"\n",
    "    \n",
    "student1 = Student(\"Alice\", 20)\n",
    "print(student1.greet())  # Output: Hello, my name is Alice and I am 20 years old."
   ]
  },
  {
   "cell_type": "code",
   "execution_count": null,
   "id": "513d111f",
   "metadata": {},
   "outputs": [],
   "source": [
    "# lets practice\n",
    "# create a student class that take name and marks of 3 subjects as arguments in constructor then create a  method to print the average marks of the student\n",
    "\n",
    "class Student:\n",
    "    def __init__(self,name,marks1,marks2,marks3):\n",
    "        self.name=name\n",
    "        self.marks1=marks1\n",
    "        self.marks2=marks2\n",
    "        self.marks3=marks3\n",
    "    \n",
    "    def print_average(self):\n",
    "\n",
    "        total_marks= self.marks1 +self.marks2 +self.marks3\n",
    "        average_marks= total_marks / 3\n",
    "        print(\"The average marks is:\",average_marks)\n",
    "\n",
    "s1=Student(\"Hasan\",70,80,87)        \n",
    "s1.print_average()"
   ]
  }
 ],
 "metadata": {
  "kernelspec": {
   "display_name": "Python 3",
   "language": "python",
   "name": "python3"
  },
  "language_info": {
   "codemirror_mode": {
    "name": "ipython",
    "version": 3
   },
   "file_extension": ".py",
   "mimetype": "text/x-python",
   "name": "python",
   "nbconvert_exporter": "python",
   "pygments_lexer": "ipython3",
   "version": "3.13.3"
  }
 },
 "nbformat": 4,
 "nbformat_minor": 5
}
