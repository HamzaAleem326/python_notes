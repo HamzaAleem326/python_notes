{
  "nbformat": 4,
  "nbformat_minor": 0,
  "metadata": {
    "colab": {
      "provenance": [],
      "authorship_tag": "ABX9TyPgyAtqztv7aWw5++9QNgJu",
      "include_colab_link": true
    },
    "kernelspec": {
      "name": "python3",
      "display_name": "Python 3"
    },
    "language_info": {
      "name": "python"
    }
  },
  "cells": [
    {
      "cell_type": "markdown",
      "metadata": {
        "id": "view-in-github",
        "colab_type": "text"
      },
      "source": [
        "<a href=\"https://colab.research.google.com/github/HamzaAleem326/python_notes/blob/main/practice.ipynb\" target=\"_parent\"><img src=\"https://colab.research.google.com/assets/colab-badge.svg\" alt=\"Open In Colab\"/></a>"
      ]
    },
    {
      "cell_type": "code",
      "source": [
        "# logical operators in python\n",
        "# and , or , not\n",
        "\n",
        "x = 10\n",
        "y = 20\n",
        "\n",
        "print(x == 10 and y > x and x == y) # and operator check if all value is true\n",
        "print(x == 10 or y==x) # check if any single value is true\n",
        "print(not x == 10) # check if value is false"
      ],
      "metadata": {
        "id": "73dEp1MMGQhi"
      },
      "execution_count": null,
      "outputs": []
    },
    {
      "cell_type": "code",
      "source": [
        "# if-else statement in python\n",
        "\n",
        "import random\n",
        "secret = random.randint(1, 50)\n",
        "attempts = 0\n",
        "\n",
        "while True:\n",
        "    guess = int(input(\"Guess a number between 1 and 50: \"))\n",
        "    attempts += 1\n",
        "\n",
        "    if secret > guess:\n",
        "        print('Too low')\n",
        "    elif secret < guess:\n",
        "        print('Too high')\n",
        "    else:\n",
        "        print(f'You won! You guessed the number in {attempts} attempts.')\n",
        "        break\n"
      ],
      "metadata": {
        "id": "f5P8ztV_sVEr"
      },
      "execution_count": null,
      "outputs": []
    },
    {
      "cell_type": "code",
      "source": [
        "# Lists (used to handle data more efficently)\n",
        "\n",
        "marks = [ 45, 34, 56, 68, 86, 68]\n",
        "print(marks)\n",
        "\n",
        "marks.extend([54, 65]) # add items to the end\n",
        "print(marks)\n",
        "\n",
        "marks.insert(5 ,98) # insert item at specific position\n",
        "print(marks)\n",
        "\n",
        "marks.remove(68) # remove the specific item\n",
        "print(marks)\n",
        "\n",
        "marks.pop() # remove the last item\n",
        "print(marks)\n",
        "\n",
        "print(marks.index(56)) # give the position of the item\n",
        "\n",
        "print(marks.count(34)) # count how many times item appears\n",
        "\n",
        "marks.sort() # sort in the ascending order\n",
        "print(marks)\n",
        "\n",
        "marks.sort(reverse=True) # sort in the descending order\n",
        "print(marks)\n",
        "\n",
        "marks.reverse() # reverse items order (not sorting)\n",
        "print(marks)\n",
        "\n",
        "percentage = marks.copy() # make the copy not the refrence\n",
        "percentage.extend([98, 89])\n",
        "print(percentage)\n",
        "print(marks)\n",
        "\n",
        "print(len(percentage)) # calculate the length\n",
        "print(len(marks))"
      ],
      "metadata": {
        "id": "xpxf-6Nrfx-Z"
      },
      "execution_count": null,
      "outputs": []
    },
    {
      "cell_type": "code",
      "source": [
        "# funtions in python\n",
        "\n",
        "def greet(name):\n",
        "  print(f'aur {name} kia hal chal hain')\n",
        "\n",
        "greet(\"hamza\")\n",
        "greet(\"ayesha\")\n",
        "greet(\"bheedu log\")\n",
        "\n",
        "# value return\n",
        "\n",
        "def add_two_numbers(a,b):\n",
        "  return a + b # return value\n",
        "\n",
        "print(add_two_numbers(1,2))"
      ],
      "metadata": {
        "id": "AZ-H5PFEYJAt"
      },
      "execution_count": null,
      "outputs": []
    },
    {
      "cell_type": "code",
      "source": [
        "# for loop\n",
        "name = \"code\"\n",
        "\n",
        "for i in name: # for string\n",
        "  print(i)\n",
        "\n",
        "\n",
        "\n",
        "person: list[str] = [\"hamza\", \"harry\", \"hitesh\", \"najam\"]\n",
        "for people in person: # for list\n",
        "    print(people)\n",
        "    for i in people: # nested\n",
        "        print(i)\n",
        "\n",
        "for k in range(5): # range we can use it for\n",
        "  print(k+1)"
      ],
      "metadata": {
        "id": "mO1TPEQVk6Jv"
      },
      "execution_count": null,
      "outputs": []
    },
    {
      "cell_type": "code",
      "source": [
        "# while loop\n",
        "\n",
        "i = 0\n",
        "while(i<=5):\n",
        "  print(i)\n",
        "  i = i + 1\n",
        "\n",
        "\n",
        "# multiplication of 5's table\n",
        "\n",
        "for i in range(12):\n",
        "  if (i == 10):\n",
        "    break # take our loop out from the interpreter\n",
        "  print(f\"5 X {i+1} = {5*(i+1)}\")\n",
        "\n",
        "print(\"\\n...\\n\")\n",
        "\n",
        "for i2 in range(12):\n",
        "  if (i2 == 10):\n",
        "    continue # skip the iteration\n",
        "  print(f\"5 X {i2+1} = {5*(i2+1)}\")"
      ],
      "metadata": {
        "id": "rH_RqPt15950"
      },
      "execution_count": null,
      "outputs": []
    },
    {
      "cell_type": "code",
      "source": [
        "# dictionary\n",
        "user = {\n",
        "\t\"name\": \"hamza\",\n",
        "\t\"roll\": 123321,\n",
        "\t\"age\": 21,\n",
        "\t\"class\": 12,\n",
        "\t\"height\": \"6 feet\",\n",
        "\t\"glasses\": \"yes\"\n",
        "}\n",
        "\n",
        "# print(user[classes]) it shows error\n",
        "# print(user.get(classes)) it doesn’t show error\n",
        "\n",
        "user[\"name\"] = \"ayesha\"  # change\n",
        "print(user)\n",
        "\n",
        "user[\"school\"] = \"dehli\"  # update/add\n",
        "print(user)\n",
        "\n",
        "# delete (two methods for delete one is to delete permanently and other is to delete work like recently deleted)\n",
        "\n",
        "del user[\"age\"]  # permanently deleted\n",
        "print(user)\n",
        "\n",
        "glasses = user.pop(\"glasses\")  # recently deleted\n",
        "print(user)\n",
        "\n",
        "for users in user:  # to get all keys\n",
        "\tprint(users)\n",
        "\n",
        "for users in user:  # shows key and value\n",
        "\tprint(f\"{users} = {user[users]}\")\n",
        "\n",
        "if \"roll\" in user:\n",
        "\tprint(\"yes roll number exist\")\n",
        "\n",
        "for key, value in user.items(): # more effective method\n",
        "  print(f\"{key} = {value}\")\n",
        "\n",
        "  # more dictionary methods:\n",
        "\n",
        "print(user.keys())    # returns all keys\n",
        "print(user.values())  # returns all values\n",
        "print(user.items())   # returns all key-value pairs\n",
        "\n",
        "copy_user = user.copy()  # makes a copy of the dictionary\n",
        "print(copy_user)\n",
        "\n",
        "user.clear()  # clears the dictionary (removes everything)\n",
        "print(user)"
      ],
      "metadata": {
        "id": "sm0pRwLoVJv2"
      },
      "execution_count": null,
      "outputs": []
    },
    {
      "cell_type": "code",
      "source": [
        "# error/exeption handling\n",
        "\n",
        "try:\n",
        "  num = int(input(\"enter a number:\"))\n",
        "  result = num / 10\n",
        "  print(f\"result is {result}\")\n",
        "\n",
        "except ZeroDivisionError:\n",
        "  print(\"cant divide by zero\")\n",
        "\n",
        "except ValueError:\n",
        "  print('only numbers are accpeted')\n",
        "\n",
        "except Exception as e:\n",
        "  print(f\"some error occured as {e}\")"
      ],
      "metadata": {
        "id": "ojNIXR7qluJW"
      },
      "execution_count": null,
      "outputs": []
    },
    {
      "cell_type": "code",
      "source": [
        "# modules(import/export)\n",
        "# modules are built in package in pyhton and we can also install externall modules\n",
        "\n",
        "import math\n",
        "\n",
        "radius = 7\n",
        "area_of_circle = math.pi * (radius ** 2)\n",
        "\n",
        "print(area_of_circle)"
      ],
      "metadata": {
        "id": "SzCf9XJBEp5_"
      },
      "execution_count": null,
      "outputs": []
    },
    {
      "cell_type": "code",
      "source": [
        "# file io\n",
        "\n",
        "# reading in the file\n",
        "file = open('myfile.txt','r')\n",
        "data = file.read(5) # we can also specify characters\n",
        "file.seek(0) # to handle cursor\n",
        "line = file.readline() # to read line by line # it also take \\n from the file\n",
        "print(data)\n",
        "print('\\n',line)\n",
        "file.close()\n",
        "\n",
        "#writing in the file\n",
        "# in this mode python will automatically make its file and pointer is in starting\n",
        "file2 = open('file2.txt','w') # in w mode the data in the file will be wiped\n",
        "file2.write('i am a software developer')\n",
        "file2.close()\n",
        "\n",
        "# append mode\n",
        "# in this mode no data wipe and cursor start from the end\n",
        "file3 = open('file3.txt', 'a')\n",
        "file3.write('i am also an ai engineer')\n",
        "file3.close()\n",
        "\n",
        "# with syntax\n",
        "# in here we dont need to close the file\n",
        "with open('myfile.txt') as f:\n",
        "  data = f.read()\n",
        "  print(data)"
      ],
      "metadata": {
        "id": "hY8EJQJhbflL"
      },
      "execution_count": null,
      "outputs": []
    },
    {
      "cell_type": "code",
      "source": [
        "# deleting a file\n",
        "# import os\n",
        "# os.remove('file2.txt')\n",
        "\n",
        "with open('replace.txt', 'w') as t:\n",
        "  t.write('i am a software developer \\n who make softwares to improve the life of living being in this world')\n",
        "\n",
        "with open('replace.txt', 'r') as p:\n",
        "  data = p.read()\n",
        "  print(data)\n",
        "\n",
        "new_data = data.replace('software','application')\n",
        "print(new_data)\n",
        "\n",
        "# to overwrite so it will change the data in the file now\n",
        "with open('replace.txt', 'w') as s:\n",
        "  s.write(new_data)"
      ],
      "metadata": {
        "id": "FYmNo-oCkmSm"
      },
      "execution_count": null,
      "outputs": []
    },
    {
      "cell_type": "code",
      "source": [
        "# file upload\n",
        "from google.colab import files\n",
        "uploaded = files.upload()"
      ],
      "metadata": {
        "id": "AK4Ynzg2hOZg"
      },
      "execution_count": null,
      "outputs": []
    },
    {
      "cell_type": "code",
      "source": [
        "# project of doubling the number until 100\n",
        "user_input = int(input('enter a number: '))\n",
        "while (user_input <= 100) :\n",
        "  original_value = user_input\n",
        "  user_input *= 2\n",
        "  print(f'double of {(original_value)} is {user_input}')"
      ],
      "metadata": {
        "id": "Te9DAS7vUoR3"
      },
      "execution_count": null,
      "outputs": []
    },
    {
      "cell_type": "code",
      "source": [
        "# mini project of stopwatch\n",
        "import time\n",
        "time1 = int(input('enter time in sec: '))\n",
        "for num in range(time1,0,-1):\n",
        "  print(num)\n",
        "\n",
        "  time.sleep(1)\n",
        "print('liftoff')"
      ],
      "metadata": {
        "id": "5_zp0WBlftkD"
      },
      "execution_count": null,
      "outputs": []
    },
    {
      "cell_type": "code",
      "source": [
        "class Student:\n",
        "\n",
        "  college_name = 'Adamjee college' # if we want something by default\n",
        "\n",
        "  def __init__(self, fullname, marks): # init is a constructor\n",
        "    self.name = fullname # self is a by default parameter without it we cant acccess our instances\n",
        "    self.marks = marks\n",
        "    print(\"adding a new student in database\")\n",
        "\n",
        "  def welcome(self):\n",
        "    print(f'welcome student: {self.name}')\n",
        "\n",
        "  def get_marks(self):\n",
        "    print(f'your marks: {self.marks}')\n",
        "\n",
        "  def college(self):\n",
        "    print(f'college name is: {Student.college_name}')\n",
        "\n",
        "s1 = Student(\"hamza\", 97)\n",
        "s1.welcome()\n",
        "s1.get_marks()\n",
        "s1.college()"
      ],
      "metadata": {
        "id": "58lec9kJ22dP"
      },
      "execution_count": null,
      "outputs": []
    },
    {
      "cell_type": "code",
      "source": [
        "# intro to OOPs\n",
        "class House:\n",
        "  Address:str = \"house no 123\"\n",
        "  no_of_rooms:int = 2\n",
        "  no_of_doors:int = 4\n",
        "\n",
        "Hamza_house = House()\n",
        "print(Hamza_house.Address)"
      ],
      "metadata": {
        "id": "O9rpHuPfB1lH"
      },
      "execution_count": null,
      "outputs": []
    },
    {
      "cell_type": "code",
      "source": [
        "class House:\n",
        "  Address:str\n",
        "  no_of_rooms:int = 2\n",
        "  no_of_doors:int = 4\n",
        "\n",
        "  def __init__(self,Address:str):\n",
        "    self.Address = Address\n",
        "\n",
        "Hamza_house = House(\"House no 123\")\n",
        "print(f' hamza address is: {Hamza_house.Address}')"
      ],
      "metadata": {
        "id": "U5vB_F1K80IK"
      },
      "execution_count": null,
      "outputs": []
    },
    {
      "cell_type": "code",
      "source": [
        "# project\n",
        "import random\n",
        "\n",
        "for i in range(10):\n",
        "  print(random.randint(1, 100), end=\" \")# end gives gaps"
      ],
      "metadata": {
        "id": "psmJDJvEeLwn",
        "colab": {
          "base_uri": "https://localhost:8080/"
        },
        "outputId": "d40bfbeb-fa06-4493-8aaa-299f4368646e"
      },
      "execution_count": null,
      "outputs": [
        {
          "output_type": "stream",
          "name": "stdout",
          "text": [
            "16 74 14 43 7 63 11 38 53 98 "
          ]
        }
      ]
    },
    {
      "cell_type": "code",
      "source": [
        "# project\n",
        "# calculate the weight of something in mars due to gravity\n",
        "\n",
        "def weight_in_mars():\n",
        "  user_input = int(input('enter your weight: '))\n",
        "  mars_weight = (user_input * 0.378)# ,2 defines decimal points\n",
        "  print(f'your weight is {round(mars_weight,2)} kg')# ,2 defines decimal points\n",
        "\n",
        "weight_in_mars()"
      ],
      "metadata": {
        "id": "lR9qDn4K7FVU"
      },
      "execution_count": null,
      "outputs": []
    },
    {
      "cell_type": "code",
      "source": [
        "# inheritance and polymorphism in oops\n",
        "\n",
        "# inheritance\n",
        "\n",
        "class Dog:\n",
        "  def __init__(self, name, age, friendliness):\n",
        "    self.name = name\n",
        "    self.age = age\n",
        "    self.friendliness = friendliness\n",
        "\n",
        "  def bark(self): # polymorohism so we can overwrite this in each class\n",
        "    return \"woof\"\n",
        "\n",
        "class Samoyed(Dog):\n",
        "  def __init__(self, name, age, friendliness):\n",
        "    super().__init__(name, age, friendliness)\n",
        "\n",
        "  def bark(self): # polymorohism\n",
        "    return \"arf arf\"\n",
        "\n",
        "class Poodle(Dog):\n",
        "  def __init__(self, name, age, friendliness):\n",
        "    super().__init__(name, age, friendliness)\n",
        "\n",
        "  def bark(self): # polymorohism\n",
        "    return \"arooooooo\"\n",
        "\n",
        "class GoldenRetriever(Dog):\n",
        "  def __init__(self, name, age, friendliness):\n",
        "    super().__init__(name, age, friendliness)\n",
        "\n",
        "  def bark(self): # polymorohism\n",
        "    return \"Pao Pao\"\n",
        "\n",
        "class GoldenDoodle(Poodle, GoldenRetriever): # we can also inherit form a child class\n",
        "  def __init__(self, name, age, friendliness):\n",
        "    super().__init__(name, age, friendliness)\n",
        "\n",
        "  def bark(self): # polymorohism\n",
        "    return \"dame un gurrr\"\n",
        "\n",
        "goodi = Samoyed('goodi', 5, 8)\n",
        "print(f'my name is {goodi.name}. my age is {goodi.age}. my friendliness level is {goodi.friendliness}')\n",
        "\n",
        "goldie = GoldenDoodle('goldie', 5, 8)\n",
        "print(f'my name is {goldie.name}. my age is {goldie.age}. my friendliness level is {goldie.friendliness}')\n",
        "\n",
        "print(goodi.bark())\n",
        "print(goldie.bark())"
      ],
      "metadata": {
        "colab": {
          "base_uri": "https://localhost:8080/"
        },
        "id": "FDFLKQy_omkP",
        "outputId": "182a810f-7829-46ae-bb6a-16bee466d9db"
      },
      "execution_count": null,
      "outputs": [
        {
          "output_type": "stream",
          "name": "stdout",
          "text": [
            "my name is goodi. my age is 5. my friendliness level is 8\n",
            "my name is goldie. my age is 5. my friendliness level is 8\n",
            "arf arf\n",
            "dame un gurrr\n"
          ]
        }
      ]
    },
    {
      "cell_type": "code",
      "source": [
        "# access modifiers -----> encapsulation\n",
        "class Person:\n",
        "  def __init__(self, name, age):\n",
        "    self.__name=name # the property made with __ is private acces modifiers\n",
        "    self.__age=age # we can only access this in class\n",
        "\n",
        "  def display_info(self):\n",
        "    print(f'my name is {self.__name}. and my age is {self.__age}')"
      ],
      "metadata": {
        "id": "Jt7X6y_BBJnO"
      },
      "execution_count": null,
      "outputs": []
    },
    {
      "cell_type": "code",
      "source": [
        "hamza = Person('hamza',18)\n",
        "hamza.display_info()"
      ],
      "metadata": {
        "colab": {
          "base_uri": "https://localhost:8080/"
        },
        "id": "8ccSi2pbaXhT",
        "outputId": "d1a60472-cf2c-46c6-d310-3794a7988acd"
      },
      "execution_count": null,
      "outputs": [
        {
          "output_type": "stream",
          "name": "stdout",
          "text": [
            "my name is hamza. and my age is 18\n"
          ]
        }
      ]
    }
  ]
}