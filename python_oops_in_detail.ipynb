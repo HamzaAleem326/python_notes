{
  "nbformat": 4,
  "nbformat_minor": 0,
  "metadata": {
    "colab": {
      "provenance": [],
      "authorship_tag": "ABX9TyMZAuGvph6vH2YQkzvoafp7",
      "include_colab_link": true
    },
    "kernelspec": {
      "name": "python3",
      "display_name": "Python 3"
    },
    "language_info": {
      "name": "python"
    }
  },
  "cells": [
    {
      "cell_type": "markdown",
      "metadata": {
        "id": "view-in-github",
        "colab_type": "text"
      },
      "source": [
        "<a href=\"https://colab.research.google.com/github/HamzaAleem326/python_notes/blob/main/python_oops_in_detail.ipynb\" target=\"_parent\"><img src=\"https://colab.research.google.com/assets/colab-badge.svg\" alt=\"Open In Colab\"/></a>"
      ]
    },
    {
      "cell_type": "code",
      "source": [
        "list = [1,3,3,4]\n",
        "# list.upper() # here it says list attribute has no attribute upper\n",
        "\n",
        "string = 'this is a string'\n",
        "# string.append() # here is says str boject has no attribute append"
      ],
      "metadata": {
        "id": "teXEX2bFhg52"
      },
      "execution_count": 3,
      "outputs": []
    },
    {
      "cell_type": "markdown",
      "source": [
        "#### in python everything is object"
      ],
      "metadata": {
        "id": "AO7U9bBfiN-z"
      }
    },
    {
      "cell_type": "markdown",
      "source": [
        "## 🌐 OOP Diagram\n",
        "\n",
        "```mermaid\n",
        "    --> 📦 Class --> is a blueprint of an object.\n",
        "    there are two types of classes.\n",
        "    1.built-in\n",
        "    2.user-defined\n",
        "    --> 🔹 Object --> is an instance of a class\n",
        "    --> 🎭 Abstraction\n",
        "    --> 🔐 Encapsulation\n",
        "    --> 🌀 Polymorphism\n",
        "    --> 🧬 Inheritance\n"
      ],
      "metadata": {
        "id": "LlLgX-4LiSZi"
      }
    },
    {
      "cell_type": "markdown",
      "source": [
        "##### syntax to create an object"
      ],
      "metadata": {
        "id": "UdxH7gs7m_Lu"
      }
    },
    {
      "cell_type": "code",
      "source": [
        "# object = classname()\n",
        "\n",
        "l = list() # list() is a class\n",
        "s = str()\n",
        "i = int()\n",
        "\n",
        "# in here we can see list, string, integer are object of class list(),str() and int()"
      ],
      "metadata": {
        "id": "6NBmbmNvB0DX"
      },
      "execution_count": null,
      "outputs": []
    },
    {
      "cell_type": "code",
      "source": [
        "class Atm:\n",
        "  # constructor(Special function) --> superpower -->\n",
        "  def __init__(self): ## when ever the class is called init automatically executed\n",
        "    self.pin = ' '\n",
        "    self.balance = 0\n",
        "    # print('unfortunately i am automatically executed')\n",
        "    self.menu()\n",
        "\n",
        "  def menu(self):\n",
        "    user_input = input('''\n",
        "    HI how can i help you?\n",
        "    1. Press 1 to create pin\n",
        "    2. Press 2 to change pin\n",
        "    3. Press 3 to check balance\n",
        "    4. Press 4 to withdraw\n",
        "    5. Anything else to exit\n",
        "    ''')\n",
        "\n",
        "    if user_input == '1':\n",
        "      # create pin\n",
        "      self.create_pin()\n",
        "    elif user_input == '2':\n",
        "      # change pin\n",
        "      self.change_pin()\n",
        "    elif user_input == '3':\n",
        "      # check balance\n",
        "      self.check_balance()\n",
        "    elif user_input == '4':\n",
        "      # withdraw\n",
        "      self.withdraw()\n",
        "    else:\n",
        "      exit()\n",
        "\n",
        "  def create_pin(self):\n",
        "    user_pin = input('enter your pin: ')\n",
        "    self.pin = user_pin\n",
        "\n",
        "    user_balance = int(input('enter balance: '))\n",
        "    self.balance = user_balance\n",
        "\n",
        "    print('pin created successfully')\n",
        "    self.menu()\n",
        "\n",
        "  def change_pin(self):\n",
        "    old_pin = input('enter old pin: ')\n",
        "    if old_pin == self.pin:\n",
        "      # let him change the pin\n",
        "      new_pin = input('enter new pin: ')\n",
        "      self.pin = new_pin\n",
        "      print('pin change successfully')\n",
        "      self.menu()\n",
        "    else:\n",
        "      print('you entered wrong pin')\n",
        "      self.menu()\n",
        "\n",
        "  def check_balance(self):\n",
        "    user_pin = input('enter your pin: ')\n",
        "    if user_pin == self.pin:\n",
        "      print('your balance is: ', self.balance)\n",
        "      self.menu()\n",
        "    else:\n",
        "      print('you entered wrong pin')\n",
        "      self.menu()\n",
        "\n",
        "  def withdraw(self):\n",
        "    user_pin = input('enter your pin: ')\n",
        "    if user_pin == self.pin:\n",
        "      amount = int(input('enter amount: '))\n",
        "      if amount <= self.balance:\n",
        "        self.balance = self.balance - amount\n",
        "        print('withdraw successfully')\n",
        "        print('remaining balance is: ', self.balance)\n",
        "        self.menu()\n",
        "      else:\n",
        "        print('you dont have enough balance')\n",
        "        self.menu()\n",
        "    else:\n",
        "      print('you entered wrong pin')\n",
        "      self.menu()\n",
        "\n",
        "# obj = Atm()\n",
        "# print(type(obj)) # <class '__main__.Atm'> in here it says obj is from the class atm\n",
        "\n",
        "obj2 = Atm()"
      ],
      "metadata": {
        "id": "0eNHnmNiIUvE"
      },
      "execution_count": null,
      "outputs": []
    },
    {
      "cell_type": "markdown",
      "source": [
        "#### methods vs functions"
      ],
      "metadata": {
        "id": "bDgcT0epJZuf"
      }
    },
    {
      "cell_type": "code",
      "source": [
        "# funtion inside of class called methods.\n",
        "# function outside of class called functions.\n",
        "\n",
        "L = [1,2,3]\n",
        "len(L) # it is a funtion --> bcz it is outside of length class\n",
        "L.append(4) # it is method"
      ],
      "metadata": {
        "id": "ET5iyBcgaQeF"
      },
      "execution_count": 1,
      "outputs": []
    },
    {
      "cell_type": "markdown",
      "source": [
        "#### Magic methods\n",
        "##### magic methods means methods that have special features. anything inside of <____this ____> is mean under double underscores called magic mehods. like we see __init __ which have special feature that it automatically called when the class in initiated  "
      ],
      "metadata": {
        "id": "O0Ml519ad6Cu"
      }
    },
    {
      "cell_type": "code",
      "source": [],
      "metadata": {
        "id": "MyVrGf1kenmr"
      },
      "execution_count": null,
      "outputs": []
    }
  ]
}