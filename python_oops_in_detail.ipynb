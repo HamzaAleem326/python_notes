{
  "nbformat": 4,
  "nbformat_minor": 0,
  "metadata": {
    "colab": {
      "provenance": [],
      "authorship_tag": "ABX9TyOXdgZyHycBt6nlsbKhbJpt",
      "include_colab_link": true
    },
    "kernelspec": {
      "name": "python3",
      "display_name": "Python 3"
    },
    "language_info": {
      "name": "python"
    }
  },
  "cells": [
    {
      "cell_type": "markdown",
      "metadata": {
        "id": "view-in-github",
        "colab_type": "text"
      },
      "source": [
        "<a href=\"https://colab.research.google.com/github/HamzaAleem326/python_notes/blob/main/python_oops_in_detail.ipynb\" target=\"_parent\"><img src=\"https://colab.research.google.com/assets/colab-badge.svg\" alt=\"Open In Colab\"/></a>"
      ]
    },
    {
      "cell_type": "code",
      "source": [
        "list = [1,3,3,4]\n",
        "# list.upper() # here it says list attribute has no attribute upper\n",
        "\n",
        "string = 'this is a string'\n",
        "# string.append() # here is says str boject has no attribute append"
      ],
      "metadata": {
        "id": "teXEX2bFhg52"
      },
      "execution_count": 3,
      "outputs": []
    },
    {
      "cell_type": "markdown",
      "source": [
        "#### in python everything is object"
      ],
      "metadata": {
        "id": "AO7U9bBfiN-z"
      }
    },
    {
      "cell_type": "markdown",
      "source": [
        "## 🌐 OOP Diagram\n",
        "\n",
        "```mermaid\n",
        "    --> 📦 Class --> is a blueprint of an object.\n",
        "    there are two types of classes.\n",
        "    1.built-in\n",
        "    2.user-defined\n",
        "    --> 🔹 Object --> is an instance of a class\n",
        "    --> 🎭 Abstraction\n",
        "    --> 🔐 Encapsulation\n",
        "    --> 🌀 Polymorphism\n",
        "    --> 🧬 Inheritance\n"
      ],
      "metadata": {
        "id": "LlLgX-4LiSZi"
      }
    },
    {
      "cell_type": "markdown",
      "source": [
        "##### syntax to create an object"
      ],
      "metadata": {
        "id": "UdxH7gs7m_Lu"
      }
    },
    {
      "cell_type": "code",
      "source": [
        "# object = classname()\n",
        "\n",
        "l = list() # list() is a class\n",
        "s = str()\n",
        "i = int()\n",
        "\n",
        "# in here we can see list, string, integer are object of class list(),str() and int()"
      ],
      "metadata": {
        "id": "6NBmbmNvB0DX"
      },
      "execution_count": null,
      "outputs": []
    },
    {
      "cell_type": "code",
      "source": [
        "class Atm:\n",
        "  # constructor(Special function) --> superpower -->\n",
        "  def __init__(self): ## when ever the class is called init automatically executed\n",
        "    self.pin = ' '\n",
        "    self.balance = 0\n",
        "    # print('unfortunately i am automatically executed')\n",
        "    self.menu()\n",
        "\n",
        "  def menu(self):\n",
        "    user_input = input('''\n",
        "    HI how can i help you?\n",
        "    1. Press 1 to create pin\n",
        "    2. Press 2 to change pin\n",
        "    3. Press 3 to check balance\n",
        "    4. Press 4 to withdraw\n",
        "    5. Anything else to exit\n",
        "    ''')\n",
        "\n",
        "    if user_input == '1':\n",
        "      # create pin\n",
        "      self.create_pin()\n",
        "    elif user_input == '2':\n",
        "      # change pin\n",
        "      self.change_pin()\n",
        "    elif user_input == '3':\n",
        "      # check balance\n",
        "      self.check_balance()\n",
        "    elif user_input == '4':\n",
        "      # withdraw\n",
        "      self.withdraw()\n",
        "    else:\n",
        "      exit()\n",
        "\n",
        "  def create_pin(self):\n",
        "    user_pin = input('enter your pin: ')\n",
        "    self.pin = user_pin\n",
        "\n",
        "    user_balance = int(input('enter balance: '))\n",
        "    self.balance = user_balance\n",
        "\n",
        "    print('pin created successfully')\n",
        "    self.menu()\n",
        "\n",
        "  def change_pin(self):\n",
        "    old_pin = input('enter old pin: ')\n",
        "    if old_pin == self.pin:\n",
        "      # let him change the pin\n",
        "      new_pin = input('enter new pin: ')\n",
        "      self.pin = new_pin\n",
        "      print('pin change successfully')\n",
        "      self.menu()\n",
        "    else:\n",
        "      print('you entered wrong pin')\n",
        "      self.menu()\n",
        "\n",
        "  def check_balance(self):\n",
        "    user_pin = input('enter your pin: ')\n",
        "    if user_pin == self.pin:\n",
        "      print('your balance is: ', self.balance)\n",
        "      self.menu()\n",
        "    else:\n",
        "      print('you entered wrong pin')\n",
        "      self.menu()\n",
        "\n",
        "  def withdraw(self):\n",
        "    user_pin = input('enter your pin: ')\n",
        "    if user_pin == self.pin:\n",
        "      amount = int(input('enter amount: '))\n",
        "      if amount <= self.balance:\n",
        "        self.balance = self.balance - amount\n",
        "        print('withdraw successfully')\n",
        "        print('remaining balance is: ', self.balance)\n",
        "        self.menu()\n",
        "      else:\n",
        "        print('you dont have enough balance')\n",
        "        self.menu()\n",
        "    else:\n",
        "      print('you entered wrong pin')\n",
        "      self.menu()\n",
        "\n",
        "# obj = Atm()\n",
        "# print(type(obj)) # <class '__main__.Atm'> in here it says obj is from the class atm\n",
        "\n",
        "obj2 = Atm()"
      ],
      "metadata": {
        "id": "0eNHnmNiIUvE"
      },
      "execution_count": null,
      "outputs": []
    },
    {
      "cell_type": "markdown",
      "source": [
        "#### methods vs functions"
      ],
      "metadata": {
        "id": "bDgcT0epJZuf"
      }
    },
    {
      "cell_type": "code",
      "source": [
        "# funtion inside of class called methods.\n",
        "# function outside of class called functions.\n",
        "\n",
        "L = [1,2,3]\n",
        "len(L) # it is a funtion --> bcz it is outside of length class\n",
        "L.append(4) # it is method"
      ],
      "metadata": {
        "id": "ET5iyBcgaQeF"
      },
      "execution_count": 1,
      "outputs": []
    },
    {
      "cell_type": "markdown",
      "source": [
        "#### Magic methods\n",
        "##### magic methods means methods that have special features. anything inside of <____this ____> is mean under double underscores called magic mehods. like we see __init __ which have special feature that it automatically called when the class in initiated  "
      ],
      "metadata": {
        "id": "O0Ml519ad6Cu"
      }
    },
    {
      "cell_type": "markdown",
      "source": [
        "### Most important !\n",
        "#### what is self: ??"
      ],
      "metadata": {
        "id": "MyVrGf1kenmr"
      }
    },
    {
      "cell_type": "code",
      "source": [
        "class WhatIsSelf:\n",
        "    def __init__(self):\n",
        "        print(f\"Inside __init__: id(self) = {id(self)}\") # 140201053236240\n",
        "\n",
        "obj = WhatIsSelf()\n",
        "print(f'Address of object is: id(obj) = {id(obj)}') # 140201053236240\n",
        "\n",
        "# both have same id means object is itself self\n",
        "# now we know about the golden rule of object oriented programming that is not\n",
        "# even a metthod inside of class can access another method but\n",
        "# object can and it is only possible due to self"
      ],
      "metadata": {
        "colab": {
          "base_uri": "https://localhost:8080/"
        },
        "id": "fcANDxI41C0V",
        "outputId": "795dec35-58a5-4b76-8e8b-cbbc3eb4812f"
      },
      "execution_count": 6,
      "outputs": [
        {
          "output_type": "stream",
          "name": "stdout",
          "text": [
            "Inside __init__: id(self) = 140201053236240\n",
            "Address of object is: id(obj) = 140201053236240\n"
          ]
        }
      ]
    },
    {
      "cell_type": "code",
      "source": [
        "class Fraction:\n",
        "  def __init__(self, x, y):\n",
        "    self.num = x\n",
        "    self.den = y\n",
        "\n",
        "  def __str__(self): # when we want to print something python automatically goes to this __str__ method\n",
        "    return '{}/{}'.format(self.num, self.den)\n",
        "\n",
        "fr1 = Fraction(3,4)\n",
        "fr2 = Fraction(1,2)\n",
        "print(fr1) # with the help of this we can able to show fraction\n",
        "print(fr2)\n",
        "\n",
        "# print(fr1 + fr2) # unsupported operand type(s) for +: 'Fraction' and 'Fraction'\n",
        "\n",
        "s1 = {1,2,3}\n",
        "s2 = {3,4,5}\n",
        "# print(s1 + s2) # unsupported operand type(s) for +: 'set' and 'set'\n",
        "\n",
        "# we can see same error in both means we, and the inventor of python dont\n",
        "# defined the addition method in both"
      ],
      "metadata": {
        "id": "C1OqVf2f45cs"
      },
      "execution_count": null,
      "outputs": []
    },
    {
      "cell_type": "markdown",
      "source": [
        "### project: in this projefct we will make fraction python bcz python have no fraction it only answer in decimals so we are making this mini project"
      ],
      "metadata": {
        "id": "sociRsXV4oIW"
      }
    },
    {
      "cell_type": "code",
      "source": [
        "class Fraction:\n",
        "  def __init__(self, x, y):\n",
        "    self.num = x\n",
        "    self.den = y\n",
        "\n",
        "  def __str__(self): # when we want to print something python automatically goes to this __str__ method\n",
        "    return '{}/{}'.format(self.num, self.den)\n",
        "\n",
        "  def __add__(self, other):\n",
        "    new_num = self.num * other.den + other.num * self.den\n",
        "    new_den = self.den * other.den\n",
        "    return '{}/{}'.format(new_num, new_den)\n",
        "\n",
        "  def __sub__(self, other):\n",
        "    new_num = self.num * other.den - other.num * self.den\n",
        "    new_den = self.den * other.den\n",
        "    return '{}/{}'.format(new_num, new_den)\n",
        "\n",
        "  def __mul__(self, other):\n",
        "    new_num = self.num * other.num\n",
        "    new_den = self.den * other.den\n",
        "    return '{}/{}'.format(new_num, new_den)\n",
        "\n",
        "  def __truediv__(self, other):\n",
        "    new_num = self.num * other.den\n",
        "    new_den = self.den * other.num\n",
        "    return '{}/{}'.format(new_num, new_den)\n",
        "\n",
        "fr1 = Fraction(3,4)\n",
        "fr2 = Fraction(1,2)\n",
        "print(fr1 + fr2)\n",
        "print(fr1 - fr2)\n",
        "print(fr1 * fr2)\n",
        "print(fr1 / fr2)"
      ],
      "metadata": {
        "id": "UkULIgHG-sq7"
      },
      "execution_count": null,
      "outputs": []
    }
  ]
}